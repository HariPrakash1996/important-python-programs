{
 "cells": [
  {
   "cell_type": "code",
   "execution_count": 2,
   "metadata": {},
   "outputs": [
    {
     "name": "stdout",
     "output_type": "stream",
     "text": [
      "Hello World!\n"
     ]
    }
   ],
   "source": [
    "# que no : 1\n",
    "# python program to print hello world\n",
    "\n",
    "\n",
    "\n",
    "print(\"Hello World!\")"
   ]
  },
  {
   "cell_type": "code",
   "execution_count": 4,
   "metadata": {},
   "outputs": [
    {
     "name": "stdout",
     "output_type": "stream",
     "text": [
      "The total value of sum is : 868\n"
     ]
    }
   ],
   "source": [
    "# que no : 2\n",
    "# python program to add two numbers\n",
    "\n",
    "\n",
    "num1=446\n",
    "num2=422\n",
    "# adding two no's\n",
    "sum=num1+num2\n",
    "print(\"The total value of sum is :\",sum)"
   ]
  },
  {
   "cell_type": "code",
   "execution_count": 5,
   "metadata": {},
   "outputs": [
    {
     "name": "stdout",
     "output_type": "stream",
     "text": [
      "The square root of 446 is: 21.118712081942874\n"
     ]
    }
   ],
   "source": [
    "# que no :3\n",
    "# python program to find the square root\n",
    "\n",
    "\n",
    "import math\n",
    "x=math.sqrt(446)\n",
    "print(\"The square root of 446 is:\",x)"
   ]
  },
  {
   "cell_type": "code",
   "execution_count": 12,
   "metadata": {},
   "outputs": [
    {
     "name": "stdout",
     "output_type": "stream",
     "text": [
      "Enter the first side : 3\n",
      "Enter the second side : 4\n",
      "Enter the third side : 5\n",
      "the area of triangle  is 6.00\n"
     ]
    }
   ],
   "source": [
    "# que no :4\n",
    "# python program to caculate the area of triangle\n",
    "\n",
    "\n",
    "a=float(input(\"Enter the first side : \"))\n",
    "b=float(input(\"Enter the second side : \"))\n",
    "c=float(input(\"Enter the third side : \"))\n",
    "s=(a+b+c)/2\n",
    "area=(s*(s-a)*(s-b)*(s-c))**0.5\n",
    "print(\"the area of triangle  is %0.2f\" %area)\n",
    "\n"
   ]
  },
  {
   "cell_type": "code",
   "execution_count": 15,
   "metadata": {},
   "outputs": [
    {
     "name": "stdout",
     "output_type": "stream",
     "text": [
      "Enter a: 8\n",
      "Enter b: 16\n",
      "Enter c: 8\n",
      " the solutions are (-1+0j) and (-1+0j) \n"
     ]
    }
   ],
   "source": [
    "# que no : 5\n",
    "# python program to solve quadratic equation\n",
    "\n",
    "\n",
    "# import complex math module\n",
    "import cmath\n",
    "\n",
    "\n",
    "a=float(input(\"Enter a: \"))\n",
    "b=float(input(\"Enter b: \"))\n",
    "c=float(input(\"Enter c: \"))\n",
    "\n",
    "# calculate the discriminant\n",
    "d=(b**2)-(4*a*c)\n",
    "\n",
    "# find two solutions\n",
    "sol1=(-b-cmath.sqrt(d))/(2*a)\n",
    "sol2=(-b+cmath.sqrt(d))/(2*a)\n",
    "print(\" the solutions are {0} and {1} \".format(sol1,sol2))\n",
    "\n"
   ]
  },
  {
   "cell_type": "code",
   "execution_count": 17,
   "metadata": {},
   "outputs": [
    {
     "name": "stdout",
     "output_type": "stream",
     "text": [
      " Enter value of x : 446\n",
      " Enter value of y : 422\n",
      " the value of x after swapping : 422\n",
      " the value of y after swapping : 446\n"
     ]
    }
   ],
   "source": [
    "# que no : 6\n",
    "# python program to swap two variables\n",
    "\n",
    "\n",
    "x=input(\" Enter value of x : \")\n",
    "y=input(\" Enter value of y : \")\n",
    "\n",
    "\n",
    "# create the temporary variable and swap the values\n",
    "\n",
    "temp=x\n",
    "x=y\n",
    "y=temp\n",
    "\n",
    "print(\" the value of x after swapping : {}\".format(x))\n",
    "print(\" the value of y after swapping : {}\".format(y))"
   ]
  },
  {
   "cell_type": "code",
   "execution_count": 20,
   "metadata": {},
   "outputs": [
    {
     "name": "stdout",
     "output_type": "stream",
     "text": [
      "5\n"
     ]
    }
   ],
   "source": [
    "# que no : 7\n",
    "# python program to generate a random number\n",
    "\n",
    "# importing the random module\n",
    "import random\n",
    "\n",
    "print(random.randint(0,9))"
   ]
  },
  {
   "cell_type": "code",
   "execution_count": 22,
   "metadata": {},
   "outputs": [
    {
     "name": "stdout",
     "output_type": "stream",
     "text": [
      "4\n"
     ]
    }
   ],
   "source": [
    "import random\n",
    "                                 \n",
    "print(random.randint(0,9))\n",
    "# it prints the random value"
   ]
  },
  {
   "cell_type": "code",
   "execution_count": 25,
   "metadata": {},
   "outputs": [
    {
     "name": "stdout",
     "output_type": "stream",
     "text": [
      "enter value in kilometers: 10\n",
      "10.00 kilometers is equal to 6.21 miles\n"
     ]
    }
   ],
   "source": [
    "# que no : 8\n",
    "# python program to convert kilometers to miles\n",
    "\n",
    "\n",
    "# taking kilometers input from the user\n",
    "kilometers=float(input(\"enter value in kilometers: \"))\n",
    "\n",
    "# conversion factor\n",
    "conv_fac=0.621371       # since 1 kilometer is equal to 0.621371 miles, we can get the equivalent miles by multiplying kilometers with this factor\n",
    "\n",
    "\n",
    "# calculate miles\n",
    "miles=kilometers*conv_fac\n",
    "\n",
    "print(\"%0.2f kilometers is equal to %0.2f miles\"% (kilometers,miles))"
   ]
  },
  {
   "cell_type": "code",
   "execution_count": 1,
   "metadata": {},
   "outputs": [
    {
     "name": "stdout",
     "output_type": "stream",
     "text": [
      "Enter temperature in celsisus : 37\n",
      "37.00 celsius is : 98.60 Fahrenheit \n"
     ]
    }
   ],
   "source": [
    "# que no : 9\n",
    "\n",
    "# python program to convert celsius to fahrenheit\n",
    "\n",
    "\n",
    "celsius=float(input(\"Enter temperature in celsisus : \"))\n",
    "fahrenheit=(celsius * 9/5)+32\n",
    "print(\"%.2f celsius is : %0.2f Fahrenheit \" %(celsius,fahrenheit))"
   ]
  },
  {
   "cell_type": "code",
   "execution_count": 4,
   "metadata": {},
   "outputs": [
    {
     "name": "stdout",
     "output_type": "stream",
     "text": [
      " Enter a number : -1\n",
      "negative number\n"
     ]
    }
   ],
   "source": [
    "# que no : 10\n",
    "\n",
    "# python progra to check if a number is positive, negative or 0\n",
    "\n",
    "num=int(input(\" Enter a number : \"))\n",
    "if num > 0:\n",
    "    print(\" positive number\")\n",
    "elif num ==0:\n",
    "    print(\"zero\")\n",
    "else:\n",
    "    print(\"negative number\")\n",
    "        "
   ]
  },
  {
   "cell_type": "code",
   "execution_count": 5,
   "metadata": {},
   "outputs": [
    {
     "name": "stdout",
     "output_type": "stream",
     "text": [
      " Enter a number : 0\n",
      "zero\n"
     ]
    }
   ],
   "source": [
    "# que no : 10\n",
    "\n",
    "# python progra to check if a number is positive, negative or 0\n",
    "\n",
    "num=int(input(\" Enter a number : \"))\n",
    "if num > 0:\n",
    "    print(\" positive number\")\n",
    "elif num ==0:\n",
    "    print(\"zero\")\n",
    "else:\n",
    "    print(\"negative number\")\n",
    "        "
   ]
  },
  {
   "cell_type": "code",
   "execution_count": 6,
   "metadata": {},
   "outputs": [
    {
     "name": "stdout",
     "output_type": "stream",
     "text": [
      " Enter a number : 446\n",
      " positive number\n"
     ]
    }
   ],
   "source": [
    "# que no : 10\n",
    "\n",
    "# python progra to check if a number is positive, negative or 0\n",
    "\n",
    "num=int(input(\" Enter a number : \"))\n",
    "if num > 0:\n",
    "    print(\" positive number\")\n",
    "elif num ==0:\n",
    "    print(\"zero\")\n",
    "else:\n",
    "    print(\"negative number\")\n",
    "        "
   ]
  },
  {
   "cell_type": "code",
   "execution_count": 7,
   "metadata": {},
   "outputs": [
    {
     "name": "stdout",
     "output_type": "stream",
     "text": [
      " Enter a number : 15\n",
      "number is odd : 15\n"
     ]
    }
   ],
   "source": [
    "# que no : 11\n",
    "\n",
    "# python program to check if a number is odd or even\n",
    "\n",
    "num=int(input(\" Enter a number : \"))\n",
    "if (num%2)==0:\n",
    "    print(\"number is even :\",num)\n",
    "else:\n",
    "    print(\"number is odd :\",num)"
   ]
  },
  {
   "cell_type": "code",
   "execution_count": 8,
   "metadata": {},
   "outputs": [
    {
     "name": "stdout",
     "output_type": "stream",
     "text": [
      " Enter a number : 446\n",
      "number is even : 446\n"
     ]
    }
   ],
   "source": [
    "# que no : 11\n",
    "\n",
    "# python program to check if a number is odd or even\n",
    "\n",
    "num=int(input(\" Enter a number : \"))\n",
    "if (num%2)==0:\n",
    "    print(\"number is even :\",num)\n",
    "else:\n",
    "    print(\"number is odd :\",num)"
   ]
  },
  {
   "cell_type": "code",
   "execution_count": 11,
   "metadata": {},
   "outputs": [
    {
     "name": "stdout",
     "output_type": "stream",
     "text": [
      "enter any year : 1996\n",
      " leap year : 1996\n"
     ]
    }
   ],
   "source": [
    "# que no : 12\n",
    "\n",
    "# python program to check leap year\n",
    "\n",
    "year=int(input(\"enter any year : \"))\n",
    "\n",
    "if (year%4)==0:\n",
    "    if (year%100)==0:\n",
    "        if (year%400)==0:\n",
    "            print(\" leap year :\",year)\n",
    "        else:\n",
    "            print(\" not a leap year :\",year)\n",
    "    else:\n",
    "        print(\" leap year :\",year)\n",
    "else:\n",
    "    print(\"not a leap year :\",year)\n",
    "    "
   ]
  },
  {
   "cell_type": "code",
   "execution_count": 13,
   "metadata": {},
   "outputs": [
    {
     "name": "stdout",
     "output_type": "stream",
     "text": [
      "enter any year : 2017\n",
      "not a leap year : 2017\n"
     ]
    }
   ],
   "source": [
    "# que no : 12\n",
    "\n",
    "# python program to check leap year\n",
    "\n",
    "year=int(input(\"enter any year : \"))\n",
    "\n",
    "if (year%4)==0:\n",
    "    if (year%100)==0:\n",
    "        if (year%400)==0:\n",
    "            print(\" leap year :\",year)\n",
    "        else:\n",
    "            print(\" not a leap year :\",year)\n",
    "    else:\n",
    "        print(\" leap year :\",year)\n",
    "else:\n",
    "    print(\"not a leap year :\",year)\n",
    "    "
   ]
  },
  {
   "cell_type": "code",
   "execution_count": 15,
   "metadata": {},
   "outputs": [
    {
     "name": "stdout",
     "output_type": "stream",
     "text": [
      "is a pn : 11\n",
      "is a pn : 11\n",
      "is a pn : 11\n"
     ]
    }
   ],
   "source": [
    "num=11\n",
    "\n",
    "if num>1:\n",
    "    \n",
    "    for i in range(2,num//2):\n",
    "        \n",
    "        if (num%i==0):\n",
    "            \n",
    "            \n",
    "            print(\"is not a prime number :\",num)\n",
    "            \n",
    "            break\n",
    "            \n",
    "        else:\n",
    "            \n",
    "            print(\"is a pn :\",num)\n",
    "else:\n",
    "    print(\"is not a pn :\",num)"
   ]
  },
  {
   "cell_type": "code",
   "execution_count": null,
   "metadata": {},
   "outputs": [],
   "source": []
  },
  {
   "cell_type": "code",
   "execution_count": null,
   "metadata": {},
   "outputs": [],
   "source": [
    "\n"
   ]
  },
  {
   "cell_type": "code",
   "execution_count": null,
   "metadata": {},
   "outputs": [],
   "source": []
  }
 ],
 "metadata": {
  "kernelspec": {
   "display_name": "Python 3",
   "language": "python",
   "name": "python3"
  },
  "language_info": {
   "codemirror_mode": {
    "name": "ipython",
    "version": 3
   },
   "file_extension": ".py",
   "mimetype": "text/x-python",
   "name": "python",
   "nbconvert_exporter": "python",
   "pygments_lexer": "ipython3",
   "version": "3.8.3"
  }
 },
 "nbformat": 4,
 "nbformat_minor": 4
}
