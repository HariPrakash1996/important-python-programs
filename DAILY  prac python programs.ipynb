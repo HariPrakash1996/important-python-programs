{
 "cells": [
  {
   "cell_type": "code",
   "execution_count": null,
   "metadata": {},
   "outputs": [],
   "source": [
    "# pp for prime number finding:\n",
    "\n",
    "num=int(input(\"enter any number : \"))\n",
    "\n",
    "\n",
    "if num>1:\n",
    "    for i in range(2,num):\n",
    "        if (num%i)==0:\n",
    "            print(\"not prime number\")\n",
    "            break\n",
    "        else:\n",
    "            print(\"it is prime number\")\n",
    "            break\n",
    "else:\n",
    "    print(\"not prime number\")"
   ]
  },
  {
   "cell_type": "code",
   "execution_count": null,
   "metadata": {},
   "outputs": [],
   "source": [
    "# pp to print random numbers\n",
    "import random\n",
    "min=10\n",
    "max=50\n",
    "ran=random.randint(min,max)\n",
    "print(ran)"
   ]
  },
  {
   "cell_type": "code",
   "execution_count": null,
   "metadata": {},
   "outputs": [],
   "source": [
    "import pyautogui as p\n",
    "ss=p.screenshot()\n",
    "ss"
   ]
  },
  {
   "cell_type": "code",
   "execution_count": null,
   "metadata": {},
   "outputs": [],
   "source": [
    "# python program for factorial of a number\n",
    "\n",
    "\n",
    "def fact(n):\n",
    "    if n<0:\n",
    "        return 0\n",
    "    elif n==0 or n==1:\n",
    "        return 1\n",
    "    else:\n",
    "        fac=1\n",
    "        while(n>1):\n",
    "            fac=fac*n\n",
    "            n=n-1\n",
    "        return fac\n",
    "    \n",
    "    \n",
    "num=10\n",
    "\n",
    "print(\"factorial is :\" ,fact(num))\n",
    "    "
   ]
  },
  {
   "cell_type": "code",
   "execution_count": null,
   "metadata": {},
   "outputs": [],
   "source": [
    "# to find fact another methpd\n",
    "\n",
    "num=int(input(\"enter number\"))\n",
    "factorial=1\n",
    "\n",
    "# check if the num is positive or negative or zero\n",
    "\n",
    "if num < 0:\n",
    "    print(\"sorry factorial doesnot exist for negative numbers\")\n",
    "elif num==0:\n",
    "    \n",
    "    print(\"the factorial of 0 is 1\")\n",
    "else:\n",
    "    for i in range(1,num+1):\n",
    "        factorial=factorial*i\n",
    "    print(\"the fact of \",num, \"is\",factorial)"
   ]
  },
  {
   "cell_type": "code",
   "execution_count": null,
   "metadata": {},
   "outputs": [],
   "source": [
    "# python program to check palindrom\n",
    "\n",
    "# def: a palindrome is nothing but any number or  a string which reains unaltered when reversed \n",
    "\n",
    "\n",
    "#  example: 12321 yes it is palindrome\n",
    "# ex2:  racecar yes it is palindrome\n",
    "# ex3 malayalam\n",
    "def isPalindrome(s):\n",
    "    return s == s[::-1]\n",
    "\n",
    "\n",
    "s=\"racecar\"\n",
    "\n",
    "ans= isPalindrome(s)\n",
    "\n",
    "if ans:\n",
    "    print(\"yes\")\n",
    "else:\n",
    "    print(\"no\")"
   ]
  },
  {
   "cell_type": "code",
   "execution_count": null,
   "metadata": {},
   "outputs": [],
   "source": [
    "# another method to find palindrome\n",
    "\n",
    "\n",
    "a=input(\"enter sequence : \")\n",
    "b=a[::-1]\n",
    "\n",
    "if a==b:\n",
    "    print(\"it is palindrome\")\n",
    "else:\n",
    "    print(\"it is not palindrome\")"
   ]
  },
  {
   "cell_type": "code",
   "execution_count": null,
   "metadata": {},
   "outputs": [],
   "source": [
    "k=\"hariprakash\"\n",
    "k[::-1]"
   ]
  },
  {
   "cell_type": "code",
   "execution_count": null,
   "metadata": {},
   "outputs": [],
   "source": [
    "x,y=0,1\n",
    "\n",
    "\n",
    "while y<10:\n",
    "    print(y)\n",
    "    x,y=y,x+y"
   ]
  },
  {
   "cell_type": "markdown",
   "metadata": {},
   "source": [
    "# program to display the fibonacci series"
   ]
  },
  {
   "cell_type": "code",
   "execution_count": null,
   "metadata": {},
   "outputs": [],
   "source": [
    "num=int(input(\"how many terms : \"))\n",
    "# first two terms\n",
    "\n",
    "n1,n2=0,1\n",
    "count=0\n",
    "# check if the no of terms is valid\n",
    "if num<=0:\n",
    "    print(\"please enter a positive number : \")\n",
    "elif num==1:\n",
    "    print(\"fibonacci sequence up to : \")\n",
    "    print(n1)\n",
    "else:\n",
    "    print(\"fibonacci sequence : \")\n",
    "    while count < num:\n",
    "        print(n1)\n",
    "        nth=n1+n2\n",
    "        # update values\n",
    "        n1=n2\n",
    "        n2=nth\n",
    "        count +=1"
   ]
  },
  {
   "cell_type": "code",
   "execution_count": null,
   "metadata": {},
   "outputs": [],
   "source": [
    "# swapping two variables or numbers\n",
    "\n",
    "\n",
    "a=100\n",
    "b=200\n",
    "\n",
    "temp=a\n",
    "a=b\n",
    "b=temp\n",
    "\n",
    "\n",
    "print(\"after swapping\")\n",
    "print(\"a =\",a)\n",
    "print(\"b =\",b)\n"
   ]
  },
  {
   "cell_type": "code",
   "execution_count": null,
   "metadata": {},
   "outputs": [],
   "source": [
    "# check if number is positive or negative or zero\n",
    "\n",
    "num=int(input(\"enter a number : \"))\n",
    "\n",
    "if num>0:\n",
    "    print(\" the num is positive\")\n",
    "elif num==0:\n",
    "    print(\"zero\")\n",
    "else:\n",
    "    print(\"the num is negative\")"
   ]
  },
  {
   "cell_type": "code",
   "execution_count": null,
   "metadata": {},
   "outputs": [],
   "source": [
    "\n",
    "# check if num is odd or even\n",
    "num=int(input(\"enter a number : \"))\n",
    "\n",
    "if (num%2)==0:\n",
    "    print(\" it is even\")\n",
    "else:\n",
    "    print(\" it is odd\")"
   ]
  },
  {
   "cell_type": "code",
   "execution_count": null,
   "metadata": {},
   "outputs": [],
   "source": [
    "# python program to display multipication table\n",
    "\n",
    "\n",
    "num=int(input(\"enter number : \"))\n",
    "num=int(num)\n",
    "for i in range(1,11):\n",
    "    print(num,\"x\",i,\"=\",num*i)"
   ]
  },
  {
   "cell_type": "code",
   "execution_count": null,
   "metadata": {},
   "outputs": [],
   "source": [
    "# python progrsm to check year is leap year or not\n",
    "\n",
    "\n",
    "year=int(input(\"enter a year : \"))\n",
    "# to get year (integer input) from the user\n",
    "# year=int(input(\"enter a year\"))\n",
    "\n",
    "if(year%4)==0:\n",
    "    if(year%100)==0:\n",
    "        if (year%400)==0:\n",
    "            # if block of 400\n",
    "            print(\"this is leap year\")\n",
    "        else:\n",
    "            # esle block of 400\n",
    "            print(\"this is not a leap year\")\n",
    "    else:\n",
    "        # esle block of 100\n",
    "        print(\"this is leap year\")\n",
    "else:\n",
    "    # else block of 4\n",
    "    print(\"this is not a leap year\")"
   ]
  },
  {
   "cell_type": "code",
   "execution_count": null,
   "metadata": {},
   "outputs": [],
   "source": [
    "# python program to find thr largest of 3 numbers\n",
    "\n",
    "\n",
    "# change the values of num1,num2,num3\n",
    "# for  a diff result\n",
    "\n",
    "num1=int(input(\"enter first num\"))\n",
    "num2=int(input(\"enter second num\"))\n",
    "num3=int(input(\"enter third num\"))\n",
    "\n",
    "if (num1>=num2) and (num1>=num3):\n",
    "    largest=num1\n",
    "elif (num2>=num1) and (num2>=num3):\n",
    "    largest=num2\n",
    "else:\n",
    "    largest=num3\n",
    "    \n",
    "    \n",
    "print(\"the largest between \",num1,\",\",num2,\"and\",num3,\"is\",largest)"
   ]
  },
  {
   "cell_type": "code",
   "execution_count": null,
   "metadata": {},
   "outputs": [],
   "source": [
    "# python program to form pyramid\n",
    "\n",
    "def pyfunc(r):\n",
    "    for x in range(r):\n",
    "        print('  '*(r-x-1)+'*'*(2*x+1))\n",
    "pyfunc(5)"
   ]
  },
  {
   "cell_type": "code",
   "execution_count": null,
   "metadata": {},
   "outputs": [],
   "source": [
    "# python program to form pyramid\n",
    "\n",
    "def pyfunc(r):\n",
    "    for x in range(r):\n",
    "        print(' '*(r-x-1)+'*'*(2*x+1))\n",
    "pyfunc(5)"
   ]
  },
  {
   "cell_type": "code",
   "execution_count": null,
   "metadata": {},
   "outputs": [],
   "source": [
    "# python program to form pyramid\n",
    "\n",
    "def pyfunc(r):\n",
    "    for x in range(r):\n",
    "        print(''*(r-x-1)+'*'*(2*x+1))\n",
    "pyfunc(5)"
   ]
  },
  {
   "cell_type": "code",
   "execution_count": null,
   "metadata": {},
   "outputs": [],
   "source": [
    "# python program to check whether the entered char is an alphabet or not\n",
    "\n",
    "\n",
    "ch=input(\"enter a character : \")\n",
    "\n",
    "if (ch>=\"a\" and ch<=\"z\") or (ch>=\"A\" and ch<=\"Z\"):\n",
    "    print(ch,\"it is an alphabet\")\n",
    "else:\n",
    "    print(ch,\"it is not an alphabet\")"
   ]
  },
  {
   "cell_type": "code",
   "execution_count": null,
   "metadata": {},
   "outputs": [],
   "source": [
    "# python program to check input char is vowel or not\n",
    "\n",
    "ch=input(\"enter a character : \")\n",
    "\n",
    "if (ch==\"A\" or ch==\"E\" or ch==\"I\" or ch==\"O\" or ch==\"U\"or ch==\"a\" or ch==\"e\" or ch==\"i\" or ch==\"o\" or ch==\"u\"):\n",
    "    print(ch,\"is a vowel\")\n",
    "else:\n",
    "    print(ch,\" it is not vowel\")"
   ]
  },
  {
   "cell_type": "code",
   "execution_count": null,
   "metadata": {},
   "outputs": [],
   "source": [
    "\n",
    "\n",
    "# python program to print all prime numbers in all interval\n",
    "\n",
    "\n",
    "lower =int(input(\"enter the lower limit value : \"))\n",
    "upper = int(input('enter the upper limit value : '))\n",
    "\n",
    "print(\"Prime numbers between\", lower, \"and\", upper, \"are:\")\n",
    "\n",
    "for num in range(lower, upper + 1):\n",
    "   # all prime numbers are greater than 1\n",
    "   if num > 1:\n",
    "        \n",
    "        for i in range(2, num):\n",
    "            if (num % i) == 0:\n",
    "                break\n",
    "        else:\n",
    "            print(num)\n",
    "\n"
   ]
  },
  {
   "cell_type": "code",
   "execution_count": null,
   "metadata": {},
   "outputs": [],
   "source": [
    "from datetime import date\n",
    "today=date.today()\n",
    "\n",
    "\n",
    "print(\"current year :\",today.year)\n",
    "print(\"current month :\",today.month)\n",
    "print(\"current day :\",today.day)"
   ]
  },
  {
   "cell_type": "code",
   "execution_count": null,
   "metadata": {},
   "outputs": [],
   "source": [
    "# python program for flipping a fair coin\n",
    "\n",
    "# possible oucomes are head or tail or yes or no or success or failure\n",
    "\n",
    "from scipy.stats import bernoulli\n",
    "bernoulli.rvs(p=0.5, size=5)    # rvs tells us that random variance\n",
    "\n",
    "\n",
    "\n"
   ]
  },
  {
   "cell_type": "code",
   "execution_count": null,
   "metadata": {},
   "outputs": [],
   "source": [
    "# python program for flipping a fair coin\n",
    "\n",
    "# possible oucomes are head or tail or yes or no or success or failure\n",
    "\n",
    "from scipy.stats import binom\n",
    "binom.rvs(n=10, p=0.5, size=5)    # rvs tells us that random variance\n",
    "\n",
    "\n",
    "\n"
   ]
  },
  {
   "cell_type": "code",
   "execution_count": null,
   "metadata": {},
   "outputs": [],
   "source": [
    "print(\"hari prakash\")"
   ]
  },
  {
   "cell_type": "code",
   "execution_count": null,
   "metadata": {},
   "outputs": [],
   "source": [
    "def foo():\n",
    "    a=10\n",
    "    b=20\n",
    "    return a,b\n",
    "\n",
    "\n",
    "x,y=foo()       # in other programing langyages we can return ony one value in our python we can return one or two variables\n",
    "print(x,y)"
   ]
  },
  {
   "cell_type": "code",
   "execution_count": null,
   "metadata": {},
   "outputs": [],
   "source": [
    "import tqdm"
   ]
  },
  {
   "cell_type": "code",
   "execution_count": null,
   "metadata": {},
   "outputs": [],
   "source": [
    "from tqdm import tqdm"
   ]
  },
  {
   "cell_type": "code",
   "execution_count": null,
   "metadata": {},
   "outputs": [],
   "source": [
    "for item in tqdm(range(1000000)):\n",
    "    result=item*2"
   ]
  },
  {
   "cell_type": "code",
   "execution_count": null,
   "metadata": {},
   "outputs": [],
   "source": [
    "# REVERSING A NUMBER\n",
    "\n",
    "num=int(input(\"enter number : \"))\n",
    "rev=0\n",
    "while(num>0):\n",
    "    dig=num%10\n",
    "    rev=rev*10+dig\n",
    "    num=num//10\n",
    "print(rev)\n"
   ]
  },
  {
   "cell_type": "code",
   "execution_count": 3,
   "metadata": {},
   "outputs": [
    {
     "name": "stdout",
     "output_type": "stream",
     "text": [
      "enter sequence : 12321\n",
      " the num is palindrome\n"
     ]
    }
   ],
   "source": [
    "# palindrome\n",
    "\n",
    "num=int(input(\"enter sequence : \"))\n",
    "\n",
    "temp=num\n",
    "rev=0\n",
    "while(num>0):\n",
    "    dig=num%10\n",
    "    rev=rev*10+dig\n",
    "    num=num//10\n",
    "    \n",
    "if (temp==rev):\n",
    "    print(\" the num is palindrome\")\n",
    "else:\n",
    "    (\"not  a palindrome\")"
   ]
  },
  {
   "cell_type": "code",
   "execution_count": 7,
   "metadata": {},
   "outputs": [
    {
     "name": "stdout",
     "output_type": "stream",
     "text": [
      "enter number10\n",
      "34\n"
     ]
    }
   ],
   "source": [
    "#  fibonaccinseries:\n",
    "\n",
    "num=int(input(\"enter number\"))\n",
    "a=0\n",
    "b=1\n",
    "if num<0:\n",
    "    print(\"incorrect input\")\n",
    "elif num==0:\n",
    "    print(a)\n",
    "elif num==1:\n",
    "    print(b)\n",
    "else:\n",
    "    for i in range(2,num):\n",
    "        c=a+b\n",
    "        a=b\n",
    "        b=c\n",
    "    print(b)"
   ]
  },
  {
   "cell_type": "code",
   "execution_count": null,
   "metadata": {},
   "outputs": [],
   "source": []
  }
 ],
 "metadata": {
  "kernelspec": {
   "display_name": "Python 3",
   "language": "python",
   "name": "python3"
  },
  "language_info": {
   "codemirror_mode": {
    "name": "ipython",
    "version": 3
   },
   "file_extension": ".py",
   "mimetype": "text/x-python",
   "name": "python",
   "nbconvert_exporter": "python",
   "pygments_lexer": "ipython3",
   "version": "3.8.3"
  }
 },
 "nbformat": 4,
 "nbformat_minor": 4
}
